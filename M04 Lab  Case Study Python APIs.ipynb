{
 "cells": [
  {
   "cell_type": "code",
   "execution_count": null,
   "id": "291cceb8",
   "metadata": {},
   "outputs": [],
   "source": [
    "#11.1\n",
    "# zoo.py\n",
    "def hours():\n",
    "    print('Open 9-5 daily')"
   ]
  },
  {
   "cell_type": "code",
   "execution_count": 16,
   "id": "fabcafe8",
   "metadata": {
    "scrolled": false
   },
   "outputs": [
    {
     "name": "stdout",
     "output_type": "stream",
     "text": [
      "Open 9-5 daily\n"
     ]
    }
   ],
   "source": [
    "#11.2\n",
    "import zoo as menagerie\n",
    "menagerie.hours()"
   ]
  },
  {
   "cell_type": "code",
   "execution_count": 17,
   "id": "1e10ae51",
   "metadata": {},
   "outputs": [
    {
     "ename": "SyntaxError",
     "evalue": "invalid syntax (2941558577.py, line 4)",
     "output_type": "error",
     "traceback": [
      "\u001b[0;36m  Input \u001b[0;32mIn [17]\u001b[0;36m\u001b[0m\n\u001b[0;31m    import sqlite3 as books.db\u001b[0m\n\u001b[0m                           ^\u001b[0m\n\u001b[0;31mSyntaxError\u001b[0m\u001b[0;31m:\u001b[0m invalid syntax\n"
     ]
    }
   ],
   "source": [
    "#16.8\n",
    "#Use the sqlalchemy module to connect to the sqlite3 database books.db that you just made in exercise 16.4. \n",
    "#As in 16.6, select and print the title column from the book table in alphabetical order\n",
    "import sqlite3 as books.db\n",
    "\n",
    "SELECT title,\n",
    "FROM book table\n",
    "ORDER BY title ASC"
   ]
  },
  {
   "cell_type": "code",
   "execution_count": null,
   "id": "4cf7f173",
   "metadata": {},
   "outputs": [],
   "source": []
  }
 ],
 "metadata": {
  "kernelspec": {
   "display_name": "Python 3 (ipykernel)",
   "language": "python",
   "name": "python3"
  },
  "language_info": {
   "codemirror_mode": {
    "name": "ipython",
    "version": 3
   },
   "file_extension": ".py",
   "mimetype": "text/x-python",
   "name": "python",
   "nbconvert_exporter": "python",
   "pygments_lexer": "ipython3",
   "version": "3.9.12"
  }
 },
 "nbformat": 4,
 "nbformat_minor": 5
}
